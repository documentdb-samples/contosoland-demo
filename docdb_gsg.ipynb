{
  "cells": [
    {
      "cell_type": "markdown",
      "id": "dabae4fd-3409-4f72-a405-0414379e829a",
      "metadata": {},
      "source": [
        "Getting Started with ContosoLand using OSS DocumentDB\n",
        "-----------------------------------------------------\n",
        "ContosoLand is a fictional, data-driven theme park that uses RFID wristbands to track guest activity, purchases, ride entries, and feedback in real time.\n",
        "\n",
        "This notebook demonstrates how to:\n",
        " - Run DocumentDB locally using Docker\n",
        " - Insert wristband visitor records into a document-style database\n",
        " - Query the data using PostgreSQL and Mongo-like syntax\n",
        "\n",
        "Prerequisites:\n",
        " - Docker installed and running\n",
        " - Internet access to pull DocumentDB image\n",
        " - Python 3.x with psycopg2 installed\n",
        " - Jupyter extension (if running on VS Code)"
      ]
    },
    {
      "cell_type": "code",
      "execution_count": null,
      "id": "237d56e8-9edb-4973-a53e-168f269f6943",
      "metadata": {
        "trusted": true
      },
      "outputs": [
        {
          "data": {
            "text/markdown": [
              "## ✅ Step 1: Set Your Variables"
            ],
            "text/plain": [
              "<IPython.core.display.Markdown object>"
            ]
          },
          "metadata": {},
          "output_type": "display_data"
        },
        {
          "data": {
            "text/markdown": [
              "## 🔧 Step 2: Pull and Run DocumentDB Docker Image"
            ],
            "text/plain": [
              "<IPython.core.display.Markdown object>"
            ]
          },
          "metadata": {},
          "output_type": "display_data"
        },
        {
          "data": {
            "text/markdown": [
              "Below, you will set some things that will be useful to set up a container in Docker and manage ContosoLand"
            ],
            "text/plain": [
              "<IPython.core.display.Markdown object>"
            ]
          },
          "metadata": {},
          "output_type": "display_data"
        }
      ],
      "source": [
        "import os\n",
        "import subprocess\n",
        "import json\n",
        "from IPython.display import Markdown, display\n",
        "\n",
        "def show(text):\n",
        "    display(Markdown(text))\n",
        "\n",
        "show(\"## ✅ Step 1: Set Your Variables\")\n",
        "show(\"Below, you will set some things that will be useful to set up a container in Docker and manage ContosoLand\")"
      ]
    },
    {
      "cell_type": "code",
      "execution_count": null,
      "id": "c93f1019",
      "metadata": {},
      "outputs": [],
      "source": [
        "# Create your first account (adjust these if needed)\n",
        "username = \"TestAdmin\"\n",
        "password = \"Admin100\"\n",
        "\n",
        "#DO NOT CHANGE BELOW UNLESS NEEDED\n",
        "host = \"localhost\"\n",
        "port = 10260\n",
        "\n",
        "show(\"## 🔧 Step 2: Pull and Run DocumentDB Docker Image\")\n",
        "show(\"Great! Now you can set up \")"
      ]
    },
    {
      "cell_type": "code",
      "execution_count": 7,
      "id": "f2c8faff",
      "metadata": {},
      "outputs": [
        {
          "data": {
            "text/markdown": [
              "### Pulling DocumentDB Docker image..."
            ],
            "text/plain": [
              "<IPython.core.display.Markdown object>"
            ]
          },
          "metadata": {},
          "output_type": "display_data"
        },
        {
          "name": "stdout",
          "output_type": "stream",
          "text": [
            "latest: Pulling from microsoft/documentdb/documentdb-local\n",
            "Digest: sha256:f304e585b43e50b9cf5c77a170f01b8e837f6d4dfb5e8fbe76aef296eabb9bf4\n",
            "Status: Image is up to date for ghcr.io/microsoft/documentdb/documentdb-local:latest\n",
            "ghcr.io/microsoft/documentdb/documentdb-local:latest\n"
          ]
        }
      ],
      "source": [
        "show(\"### Pulling DocumentDB Docker image...\")\n",
        "! docker pull ghcr.io/microsoft/documentdb/documentdb-local:latest\n",
        "! docker tag ghcr.io/microsoft/documentdb/documentdb-local:latest documentdb\n"
      ]
    },
    {
      "cell_type": "code",
      "execution_count": null,
      "id": "f4b5a649",
      "metadata": {},
      "outputs": [
        {
          "data": {
            "text/markdown": [
              "### Creating ContosoLand container from DocumentDB image..."
            ],
            "text/plain": [
              "<IPython.core.display.Markdown object>"
            ]
          },
          "metadata": {},
          "output_type": "display_data"
        },
        {
          "name": "stdout",
          "output_type": "stream",
          "text": [
            "41fdacfe78a50ba43bd82ee7ee2fc9aae1254da4f4949244151b125661dffd52\n"
          ]
        }
      ],
      "source": [
        "show(\"### Creating ContosoLand container from DocumentDB image...\")\n",
        "! docker run -dt -p {port}:{port} --name documentdb-contosoland documentdb --username {username} --password {password}"
      ]
    },
    {
      "cell_type": "code",
      "execution_count": 14,
      "id": "7871ae3e",
      "metadata": {},
      "outputs": [
        {
          "data": {
            "text/markdown": [
              "### Extracting Container ID for future use..."
            ],
            "text/plain": [
              "<IPython.core.display.Markdown object>"
            ]
          },
          "metadata": {},
          "output_type": "display_data"
        },
        {
          "name": "stdout",
          "output_type": "stream",
          "text": [
            "Container ID: 41fdacfe78a5\n"
          ]
        }
      ],
      "source": [
        "show(\"### Extracting Container ID for future use...\")\n",
        "# Run `docker ps` and filter for \"documentdb-contosoland\"\n",
        "result = subprocess.run(\n",
        "    [\"docker\", \"ps\", \"--filter\", \"name=documentdb-contosoland\", \"--format\", \"{{.ID}}\"],\n",
        "    capture_output=True, text=True\n",
        ")\n",
        "\n",
        "container_id = result.stdout.strip()\n",
        "\n",
        "if container_id:\n",
        "    print(f\"Container ID: {container_id}\")\n",
        "else:\n",
        "    print(\"Container 'documentdb-contosoland' not found.\")\n"
      ]
    },
    {
      "cell_type": "code",
      "execution_count": null,
      "id": "69637136",
      "metadata": {},
      "outputs": [],
      "source": [
        "show(\"### Connecting via `mongosh` With TLS and Auth\")\n",
        "! mongosh \"mongodb://{host}:{port}\" -u {username} -p {password} --authenticationMechanism SCRAM-SHA-256 --tls --tlsAllowInvalidCertificates"
      ]
    },
    {
      "cell_type": "markdown",
      "id": "1f207643",
      "metadata": {},
      "source": [
        "# Patty note -- what's left\n",
        "- Running the DocumentDB Docker image\n",
        "    - If this is too much of an issue, we can just use the prebuilt image, but it comes at a cost of not always getting the most updated version\n",
        "- Inserting sample visitor data\n",
        "- Connecting it with VS Code Extension \n",
        "- Simple query"
      ]
    }
  ],
  "metadata": {
    "kernelspec": {
      "display_name": ".venv",
      "language": "python",
      "name": "python3"
    },
    "language_info": {
      "codemirror_mode": {
        "name": "ipython",
        "version": 3
      },
      "file_extension": ".py",
      "mimetype": "text/x-python",
      "name": "python",
      "nbconvert_exporter": "python",
      "pygments_lexer": "ipython3",
      "version": "3.11.9"
    }
  },
  "nbformat": 4,
  "nbformat_minor": 5
}
