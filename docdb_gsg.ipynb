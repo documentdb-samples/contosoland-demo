{
  "cells": [
    {
      "cell_type": "markdown",
      "id": "dabae4fd-3409-4f72-a405-0414379e829a",
      "metadata": {},
      "source": [
        "Getting Started with ContosoLand using OSS DocumentDB\n",
        "-----------------------------------------------------\n",
        "ContosoLand is a fictional, data-driven theme park that uses RFID wristbands to track guest activity, purchases, ride entries, and feedback in real time.\n",
        "\n",
        "This notebook demonstrates how to:\n",
        " - Run DocumentDB locally using Docker\n",
        " - Insert wristband visitor records into a document-style database\n",
        " - Query the data using PostgreSQL and Mongo-like syntax\n",
        "\n",
        "Prerequisites:\n",
        " - Docker installed and running\n",
        " - Internet access to pull DocumentDB image\n",
        " - Python 3.x with psycopg2 installed"
      ]
    },
    {
      "cell_type": "code",
      "execution_count": 1,
      "id": "237d56e8-9edb-4973-a53e-168f269f6943",
      "metadata": {
        "trusted": true
      },
      "outputs": [
        {
          "data": {
            "text/markdown": [
              "## 🔧 Step 1: Pull and Run DocumentDB Docker Image"
            ],
            "text/plain": [
              "<IPython.core.display.Markdown object>"
            ]
          },
          "metadata": {},
          "output_type": "display_data"
        }
      ],
      "source": [
        "import os\n",
        "import subprocess\n",
        "import json\n",
        "from IPython.display import Markdown, display\n",
        "\n",
        "def show(text):\n",
        "    display(Markdown(text))\n",
        "\n",
        "show(\"## 🔧 Step 1: Pull and Run DocumentDB Docker Image\")"
      ]
    },
    {
      "cell_type": "code",
      "execution_count": 4,
      "id": "d5735711",
      "metadata": {},
      "outputs": [
        {
          "data": {
            "text/markdown": [
              "### Cloning the DocumentDB repo to your local machine..."
            ],
            "text/plain": [
              "<IPython.core.display.Markdown object>"
            ]
          },
          "metadata": {},
          "output_type": "display_data"
        },
        {
          "name": "stderr",
          "output_type": "stream",
          "text": [
            "Cloning into 'documentdb'...\n",
            "Updating files:  80% (1015/1268)\n",
            "Updating files:  81% (1028/1268)\n",
            "Updating files:  82% (1040/1268)\n",
            "Updating files:  83% (1053/1268)\n",
            "Updating files:  84% (1066/1268)\n",
            "Updating files:  85% (1078/1268)\n",
            "Updating files:  86% (1091/1268)\n",
            "Updating files:  87% (1104/1268)\n",
            "Updating files:  88% (1116/1268)\n",
            "Updating files:  89% (1129/1268)\n",
            "Updating files:  90% (1142/1268)\n",
            "Updating files:  91% (1154/1268)\n",
            "Updating files:  92% (1167/1268)\n",
            "Updating files:  93% (1180/1268)\n",
            "Updating files:  94% (1192/1268)\n",
            "Updating files:  95% (1205/1268)\n",
            "Updating files:  96% (1218/1268)\n",
            "Updating files:  97% (1230/1268)\n",
            "Updating files:  98% (1243/1268)\n",
            "Updating files:  99% (1256/1268)\n",
            "Updating files: 100% (1268/1268)\n",
            "Updating files: 100% (1268/1268), done.\n"
          ]
        },
        {
          "data": {
            "text/markdown": [
              "### Cloning complete! 🙌"
            ],
            "text/plain": [
              "<IPython.core.display.Markdown object>"
            ]
          },
          "metadata": {},
          "output_type": "display_data"
        }
      ],
      "source": [
        "show(\"### Cloning the DocumentDB repo to your local machine...\")\n",
        "\n",
        "! git clone https://github.com/microsoft/documentdb.git\n",
        "show(\"### Cloning complete! 🙌\")"
      ]
    },
    {
      "cell_type": "code",
      "execution_count": 2,
      "id": "f2c8faff",
      "metadata": {},
      "outputs": [
        {
          "data": {
            "text/markdown": [
              "### Building the DocumentDB Docker image..."
            ],
            "text/plain": [
              "<IPython.core.display.Markdown object>"
            ]
          },
          "metadata": {},
          "output_type": "display_data"
        },
        {
          "name": "stdout",
          "output_type": "stream",
          "text": [
            "551b78e588fdb362c090faaca7b4fce369ad0150ad153d70340c463466ed0df2\n"
          ]
        },
        {
          "name": "stderr",
          "output_type": "stream",
          "text": [
            "Unable to find image 'ghcr.io/microsoft/documentdb/documentdb-local:latest' locally\n",
            "latest: Pulling from microsoft/documentdb/documentdb-local\n",
            "933b8fbb180f: Pulling fs layer\n",
            "92e12df4eb4a: Pulling fs layer\n",
            "ae71e970980f: Pulling fs layer\n",
            "c7ff1e1c28ca: Pulling fs layer\n",
            "f1d5f40d21a4: Pulling fs layer\n",
            "03737c9375f0: Pulling fs layer\n",
            "b0b5e98cd85d: Pulling fs layer\n",
            "0491b55cbfe9: Pulling fs layer\n",
            "a738c9d06c99: Pulling fs layer\n",
            "24dcd9345489: Pulling fs layer\n",
            "45a50fa53bed: Pulling fs layer\n",
            "77f3ad5613c7: Pulling fs layer\n",
            "8d43374928a8: Pulling fs layer\n",
            "e28b496b0cef: Pulling fs layer\n",
            "383d25ed80db: Pulling fs layer\n",
            "0693f14faf8e: Pulling fs layer\n",
            "a6ef53c4fb06: Pulling fs layer\n",
            "5f7c0303be43: Pulling fs layer\n",
            "c083802d8b2b: Pulling fs layer\n",
            "f5f05c24d00c: Pulling fs layer\n",
            "be2ae4f94ff7: Pulling fs layer\n",
            "02809cb26282: Pulling fs layer\n",
            "f69366b95c2c: Pulling fs layer\n",
            "656b9b693fa5: Pulling fs layer\n",
            "f012b93dc9b6: Pulling fs layer\n",
            "4f4fb700ef54: Pulling fs layer\n",
            "24dcd9345489: Already exists\n",
            "0693f14faf8e: Already exists\n",
            "ae71e970980f: Already exists\n",
            "0491b55cbfe9: Already exists\n",
            "a6ef53c4fb06: Already exists\n",
            "f69366b95c2c: Already exists\n",
            "be2ae4f94ff7: Already exists\n",
            "77f3ad5613c7: Already exists\n",
            "45a50fa53bed: Already exists\n",
            "e28b496b0cef: Already exists\n",
            "5f7c0303be43: Already exists\n",
            "f5f05c24d00c: Already exists\n",
            "02809cb26282: Already exists\n",
            "b0b5e98cd85d: Already exists\n",
            "656b9b693fa5: Already exists\n",
            "f012b93dc9b6: Already exists\n",
            "383d25ed80db: Already exists\n",
            "4f4fb700ef54: Already exists\n",
            "f1d5f40d21a4: Already exists\n",
            "c083802d8b2b: Already exists\n",
            "03737c9375f0: Download complete\n",
            "a738c9d06c99: Download complete\n",
            "8d43374928a8: Download complete\n",
            "c7ff1e1c28ca: Download complete\n",
            "933b8fbb180f: Download complete\n",
            "c7ff1e1c28ca: Pull complete\n",
            "933b8fbb180f: Pull complete\n",
            "03737c9375f0: Pull complete\n",
            "ae71e970980f: Pull complete\n",
            "f1d5f40d21a4: Pull complete\n",
            "92e12df4eb4a: Download complete\n",
            "383d25ed80db: Pull complete\n",
            "92e12df4eb4a: Pull complete\n",
            "24dcd9345489: Pull complete\n",
            "77f3ad5613c7: Pull complete\n",
            "5f7c0303be43: Pull complete\n",
            "f69366b95c2c: Pull complete\n",
            "b0b5e98cd85d: Pull complete\n",
            "656b9b693fa5: Pull complete\n",
            "0491b55cbfe9: Pull complete\n",
            "45a50fa53bed: Pull complete\n",
            "c083802d8b2b: Pull complete\n",
            "8d43374928a8: Pull complete\n",
            "a738c9d06c99: Pull complete\n",
            "0693f14faf8e: Pull complete\n",
            "a6ef53c4fb06: Pull complete\n",
            "be2ae4f94ff7: Pull complete\n",
            "e28b496b0cef: Pull complete\n",
            "f5f05c24d00c: Pull complete\n",
            "02809cb26282: Pull complete\n",
            "f012b93dc9b6: Pull complete\n",
            "4f4fb700ef54: Pull complete\n",
            "Digest: sha256:f304e585b43e50b9cf5c77a170f01b8e837f6d4dfb5e8fbe76aef296eabb9bf4\n",
            "Status: Downloaded newer image for ghcr.io/microsoft/documentdb/documentdb-local:latest\n"
          ]
        }
      ],
      "source": [
        "show(\"### Building the DocumentDB Docker image...\")\n",
        "! docker run -dt -p 10260:10260 ghcr.io/microsoft/documentdb/documentdb-local:latest\n"
      ]
    },
    {
      "cell_type": "code",
      "execution_count": 3,
      "id": "7871ae3e",
      "metadata": {},
      "outputs": [
        {
          "data": {
            "text/markdown": [
              "### Optional: use this command to validate the image was built successfully"
            ],
            "text/plain": [
              "<IPython.core.display.Markdown object>"
            ]
          },
          "metadata": {},
          "output_type": "display_data"
        },
        {
          "data": {
            "text/markdown": [
              "You should see the `CONTAINER ID` image listed in the output"
            ],
            "text/plain": [
              "<IPython.core.display.Markdown object>"
            ]
          },
          "metadata": {},
          "output_type": "display_data"
        },
        {
          "name": "stdout",
          "output_type": "stream",
          "text": [
            "CONTAINER ID   IMAGE                                                  COMMAND                  CREATED          STATUS          PORTS                      NAMES\n",
            "551b78e588fd   ghcr.io/microsoft/documentdb/documentdb-local:latest   \"/bin/bash -c '/home…\"   12 seconds ago   Up 10 seconds   0.0.0.0:10260->10260/tcp   happy_buck\n"
          ]
        }
      ],
      "source": [
        "show(\"### Optional: use this command to validate the image was built successfully\")\n",
        "show(\"You should see the `CONTAINER ID` image listed in the output\")\n",
        "! docker ps"
      ]
    },
    {
      "cell_type": "code",
      "execution_count": 20,
      "id": "e196be84",
      "metadata": {},
      "outputs": [
        {
          "data": {
            "text/markdown": [
              "#### The CONTAINER ID is: `e16ac4cd6120`"
            ],
            "text/plain": [
              "<IPython.core.display.Markdown object>"
            ]
          },
          "metadata": {},
          "output_type": "display_data"
        }
      ],
      "source": [
        "container_id = subprocess.check_output(\"docker ps -q\", shell=True).decode().strip()\n",
        "show(f\"#### The CONTAINER ID is: `{container_id}`\")"
      ]
    },
    {
      "cell_type": "code",
      "execution_count": 14,
      "id": "69637136",
      "metadata": {},
      "outputs": [
        {
          "data": {
            "text/markdown": [
              "### Connecting to the emulator..."
            ],
            "text/plain": [
              "<IPython.core.display.Markdown object>"
            ]
          },
          "metadata": {},
          "output_type": "display_data"
        },
        {
          "name": "stderr",
          "output_type": "stream",
          "text": [
            "the input device is not a TTY.  If you are using mintty, try prefixing the command with 'winpty'\n"
          ]
        }
      ],
      "source": [
        "show(\"### Connecting to the emulator...\")\n",
        "! docker exec -it {container_id} mongosh\n"
      ]
    },
    {
      "cell_type": "code",
      "execution_count": null,
      "id": "f4a416d8",
      "metadata": {},
      "outputs": [
        {
          "name": "stderr",
          "output_type": "stream",
          "text": [
            "bash: line 1: ./documentdb/.devcontainer/Dockerfile: No such file or directory\n"
          ]
        }
      ],
      "source": [
        "! docker exec contosoland-db bash -c \"cd /home/documentdb/code && ./.devcontainer/Dockerfile\n",
        "\n"
      ]
    },
    {
      "cell_type": "code",
      "execution_count": 89,
      "id": "deb1e6d1",
      "metadata": {},
      "outputs": [
        {
          "name": "stdout",
          "output_type": "stream",
          "text": [
            "Image used for contosoland-db: documentdb\n"
          ]
        }
      ],
      "source": [
        "image_name = subprocess.run(\n",
        "    [\"docker\", \"inspect\", \"--format\", \"{{.Config.Image}}\", \"contosoland-db\"],\n",
        "    capture_output=True,\n",
        "    text=True\n",
        ")\n",
        "\n",
        "print(\"Image used for contosoland-db:\", image_name.stdout.strip())"
      ]
    },
    {
      "cell_type": "code",
      "execution_count": 92,
      "id": "a4ad2582",
      "metadata": {},
      "outputs": [
        {
          "name": "stdout",
          "output_type": "stream",
          "text": [
            "total 108\n",
            "-rwxrwxrwx 1 root root  4780 May 14 18:45 build_and_start_gateway.sh\n",
            "-rwxrwxrwx 1 root root 10776 May 14 18:45 emulator_entrypoint.sh\n",
            "-rwxrwxrwx 1 root root  8003 May 14 18:45 generate_error_values.sh\n",
            "-rwxrwxrwx 1 root root  2581 May 14 18:45 generate_extension_version.sh\n",
            "-rwxrwxrwx 1 root root  2557 May 14 18:45 generate_external_error_mapping_file.sh\n",
            "-rwxrwxrwx 1 root root  1395 May 14 18:45 install_citus_indent.sh\n",
            "-rwxrwxrwx 1 root root  1638 May 14 18:45 install_setup_citus_core_oss.sh\n",
            "-rwxrwxrwx 1 root root  3090 May 14 18:45 install_setup_intel_decimal_math_lib.sh\n",
            "-rwxrwxrwx 1 root root  1632 May 14 18:45 install_setup_libbson.sh\n",
            "-rwxrwxrwx 1 root root  1850 May 14 18:45 install_setup_pcre2.sh\n",
            "-rwxrwxrwx 1 root root  1328 May 14 18:45 install_setup_pg_cron.sh\n",
            "-rwxrwxrwx 1 root root  1330 May 14 18:45 install_setup_pgvector.sh\n",
            "-rwxrwxrwx 1 root root  2166 May 14 18:45 install_setup_postgis.sh\n",
            "-rwxrwxrwx 1 root root  2651 May 14 18:45 install_setup_postgres.sh\n",
            "-rwxrwxrwx 1 root root  1315 May 14 18:45 install_setup_rum_oss.sh\n",
            "-rwxrwxrwx 1 root root  1413 May 14 18:45 install_setup_system_rows.sh\n",
            "-rwxrwxrwx 1 root root   562 May 14 18:45 setup_psqlrc.sh\n",
            "-rwxrwxrwx 1 root root  2419 May 14 18:45 setup_versions.sh\n",
            "-rwxrwxrwx 1 root root  4470 May 14 18:45 start_oss_server.sh\n",
            "-rwxrwxrwx 1 root root  3576 May 14 18:45 utils.sh\n",
            "-rwxrwxrwx 1 root root  3394 May 14 18:45 validate_extension_file_state.sh\n",
            "-rwxrwxrwx 1 root root  2776 May 14 18:45 validate_headers.sh\n"
          ]
        }
      ],
      "source": [
        "! docker exec contosoland-db bash -c \"ls -l /home/documentdb/code/scripts\""
      ]
    },
    {
      "cell_type": "markdown",
      "id": "1f207643",
      "metadata": {},
      "source": [
        "# Patty note -- what's left\n",
        "- Running the DocumentDB Docker image\n",
        "    - If this is too much of an issue, we can just use the prebuilt image, but it comes at a cost of not always getting the most updated version\n",
        "- Inserting sample visitor data\n",
        "- Connecting it with VS Code Extension \n",
        "- Simple query"
      ]
    }
  ],
  "metadata": {
    "kernelspec": {
      "display_name": ".venv",
      "language": "python",
      "name": "python3"
    },
    "language_info": {
      "codemirror_mode": {
        "name": "ipython",
        "version": 3
      },
      "file_extension": ".py",
      "mimetype": "text/x-python",
      "name": "python",
      "nbconvert_exporter": "python",
      "pygments_lexer": "ipython3",
      "version": "3.11.9"
    }
  },
  "nbformat": 4,
  "nbformat_minor": 5
}
